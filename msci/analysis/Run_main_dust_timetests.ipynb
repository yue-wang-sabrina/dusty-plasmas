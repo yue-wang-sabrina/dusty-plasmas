{
 "cells": [
  {
   "cell_type": "code",
   "execution_count": 1,
   "metadata": {
    "collapsed": true
   },
   "outputs": [],
   "source": [
    "import numpy\n",
    "from msci.analysis.analysis_dust import BEffectsAnalysis\n",
    "from msci.utils.utils import generate_particle_equilibrium_positions, prepare_modified_b_field\n",
    "from msci.plots import dustplots\n",
    "import msci.dustyplasma_cpp.dustcpp_wrapper as dcpp\n",
    "\n",
    "from IPython import get_ipython\n",
    "\n",
    "ipython = get_ipython()\n",
    "ipython.magic('load_ext autoreload')\n",
    "ipython.magic('autoreload 2')\n",
    "\n",
    "beffect1 = BEffectsAnalysis()"
   ]
  },
  {
   "cell_type": "code",
   "execution_count": 3,
   "metadata": {},
   "outputs": [],
   "source": [
    "beffect1.create_particles(\n",
    "    numparticles=10,\n",
    "    initpositions=generate_particle_equilibrium_positions()\n",
    ")"
   ]
  },
  {
   "cell_type": "code",
   "execution_count": 4,
   "metadata": {
    "collapsed": true
   },
   "outputs": [],
   "source": [
    "beffect1.create_pairs()"
   ]
  },
  {
   "cell_type": "code",
   "execution_count": 12,
   "metadata": {},
   "outputs": [
    {
     "name": "stderr",
     "output_type": "stream",
     "text": [
      "100%|██████████| 2000/2000 [00:05<00:00, 342.10it/s]\n",
      "100%|██████████| 100/100 [00:00<00:00, 339.64it/s]"
     ]
    },
    {
     "name": "stdout",
     "output_type": "stream",
     "text": [
      " "
     ]
    },
    {
     "name": "stderr",
     "output_type": "stream",
     "text": [
      "\n"
     ]
    }
   ],
   "source": [
    "%%prun\n",
    "beffect1.interact_and_iterate(\n",
    "    iterationsB=100,\n",
    "    init_iterations=2000,\n",
    "    method='Gibs',\n",
    "    modified_b_field=prepare_modified_b_field()\n",
    ")"
   ]
  },
  {
   "cell_type": "code",
   "execution_count": 6,
   "metadata": {
    "collapsed": true
   },
   "outputs": [],
   "source": [
    "beffect1.sort_positions_of_particles()"
   ]
  },
  {
   "cell_type": "code",
   "execution_count": 7,
   "metadata": {},
   "outputs": [
    {
     "name": "stderr",
     "output_type": "stream",
     "text": [
      "/anaconda/lib/python3.6/site-packages/matplotlib/figure.py:403: UserWarning: matplotlib is currently using a non-GUI backend, so cannot show the figure\n",
      "  \"matplotlib is currently using a non-GUI backend, \"\n"
     ]
    }
   ],
   "source": [
    "dustplots.pplot(beffect1)"
   ]
  },
  {
   "cell_type": "code",
   "execution_count": 11,
   "metadata": {},
   "outputs": [
    {
     "name": "stdout",
     "output_type": "stream",
     "text": [
      " "
     ]
    },
    {
     "name": "stderr",
     "output_type": "stream",
     "text": [
      "/anaconda/lib/python3.6/site-packages/matplotlib/figure.py:403: UserWarning: matplotlib is currently using a non-GUI backend, so cannot show the figure\n",
      "  \"matplotlib is currently using a non-GUI backend, \"\n"
     ]
    }
   ],
   "source": [
    "%%prun\n",
    "particlenum = 10;\n",
    "itB=10000\n",
    "initit = 200\n",
    "beffect2 = dcpp.DustAnalysisCpp(initit, itB, particlenum)\n",
    "beffect2.get_equilibrium_positions()\n",
    "beffect2.run()\n",
    "beffect1.numparticles = particlenum\n",
    "beffect1.iterationsB = itB\n",
    "beffect1.init_iterations = initit\n",
    "beffect1.method = \"NoGibs\"\n",
    "beffect1.position=[[i,j,k] for i,j,k in zip(beffect2.positions_x,beffect2.positions_y,beffect2.positions_z)]\n",
    "beffect1.position_array = numpy.array(beffect1.position)\n",
    "beffect1.sort_positions_of_particles()\n",
    "beffect1.modified_b_field=prepare_modified_b_field()\n",
    "dustplots.pplot(beffect1)"
   ]
  },
  {
   "cell_type": "code",
   "execution_count": null,
   "metadata": {
    "collapsed": true
   },
   "outputs": [],
   "source": [
    ""
   ]
  }
 ],
 "metadata": {
  "kernelspec": {
   "display_name": "Python 3",
   "language": "python",
   "name": "python3"
  },
  "language_info": {
   "codemirror_mode": {
    "name": "ipython",
    "version": 3.0
   },
   "file_extension": ".py",
   "mimetype": "text/x-python",
   "name": "python",
   "nbconvert_exporter": "python",
   "pygments_lexer": "ipython3",
   "version": "3.6.1"
  }
 },
 "nbformat": 4,
 "nbformat_minor": 0
}